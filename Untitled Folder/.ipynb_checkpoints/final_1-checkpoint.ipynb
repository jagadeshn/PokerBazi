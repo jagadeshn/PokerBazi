{
 "cells": [
  {
   "cell_type": "code",
   "execution_count": 38,
   "metadata": {},
   "outputs": [],
   "source": [
    "import tensorflow as tf\n",
    "from tensorflow import keras\n",
    "from tensorflow.keras import layers\n",
    "from tensorflow.keras.models import Sequential\n",
    "from tensorflow.keras.layers import Dense , Dropout , Activation , Flatten, Conv2D, MaxPooling2D\n",
    "import os\n",
    "import matplotlib.pyplot as plt\n",
    "import numpy as np\n",
    "import random"
   ]
  },
  {
   "cell_type": "code",
   "execution_count": 2,
   "metadata": {},
   "outputs": [],
   "source": [
    "import cv2"
   ]
  },
  {
   "cell_type": "code",
   "execution_count": 3,
   "metadata": {},
   "outputs": [],
   "source": [
    "DATADIR = r\"C:\\Users\\jagadesh\\Jupyter Projects\\PokerBazi\\cards\""
   ]
  },
  {
   "cell_type": "code",
   "execution_count": 98,
   "metadata": {},
   "outputs": [],
   "source": [
    "CATEGORIES = [\"2c\",\"2d\",\"2h\",\"2s\",\"3c\",\"3d\",\"3h\",\"3s\",\"4c\",\"4d\",\"4h\",\"4s\",\"5c\",\"5d\",\"5h\",\"5s\",\"6c\",\"6d\",\"6h\",\n",
    "              \"6s\",\"7c\",\"7d\",\"7h\",\"7s\",\"8c\",\"8d\",\"8h\",\"8s\",\"9c\",\"9d\",\"9h\",\"9s\",\"10c\",\"10d\",\"10h\",\"10s\",\"Jc\",\"Jd\",\"Jh\",\"Js\",\n",
    "              \"Qc\",\"Qd\",\"Qh\",\"Qs\",\"Kc\",\"Kd\",\"Kh\",\"Ks\"]\n",
    "NUM_CLASSES = [\"2c\",\"2d\",\"2h\",\"2s\",\"3c\",\"3d\",\"3h\",\"3s\",\"4c\",\"4d\",\"4h\",\"4s\",\"5c\",\"5d\",\"5h\",\"5s\",\"6c\",\"6d\",\"6h\",\n",
    "              \"6s\",\"7c\",\"7d\",\"7h\",\"7s\",\"8c\",\"8d\",\"8h\",\"8s\",\"9c\",\"9d\",\"9h\",\"9s\",\"10c\",\"10d\",\"10h\",\"10s\",\"Jc\",\"Jd\",\"Jh\",\"Js\",\n",
    "              \"Qc\",\"Qd\",\"Qh\",\"Qs\",\"Kc\",\"Kd\",\"Kh\",\"Ks\"]"
   ]
  },
  {
   "cell_type": "code",
   "execution_count": 30,
   "metadata": {},
   "outputs": [],
   "source": [
    "import pickle"
   ]
  },
  {
   "cell_type": "code",
   "execution_count": 32,
   "metadata": {},
   "outputs": [],
   "source": [
    "import pickle\n",
    "# saving pickle file\n",
    "pickle_out = open(\"X.pickle\",\"wb\")\n",
    "pickle.dump(X,pickle_out)\n",
    "pickle_out.close()\n",
    "pickle_out = open(\"y.pickle\",\"wb\")\n",
    "pickle.dump(y,pickle_out)\n",
    "pickle_out.close()\n",
    "\n",
    "#to read again \n",
    "\n",
    "import pickle\n",
    "pickle_in = open(\"X.pickle\",\"rb\")\n",
    "X = pickle.load(pickle_in)\n",
    "pickle_in_y = open(\"y.pickle\",\"rb\")\n",
    "y = pickle.load(pickle_in_y)"
   ]
  },
  {
   "cell_type": "code",
   "execution_count": 33,
   "metadata": {},
   "outputs": [],
   "source": [
    "pickle_out = open(\"y.pickle\",\"wb\")\n",
    "pickle.dump(y,pickle_out)\n",
    "pickle_out.close()"
   ]
  },
  {
   "cell_type": "code",
   "execution_count": 35,
   "metadata": {},
   "outputs": [],
   "source": [
    "#to read again \n",
    "# import pickle\n",
    "# pickle_in = open(\"X.pickle\",\"rb\")\n",
    "# X = pickle.load(pickle_in)\n",
    "# pickle_in_y = open(\"y.pickle\",\"rb\")\n",
    "# y = pickle.load(pickle_in_y)"
   ]
  },
  {
   "cell_type": "code",
   "execution_count": null,
   "metadata": {},
   "outputs": [],
   "source": []
  }
 ],
 "metadata": {
  "kernelspec": {
   "display_name": "Python 3",
   "language": "python",
   "name": "python3"
  },
  "language_info": {
   "codemirror_mode": {
    "name": "ipython",
    "version": 3
   },
   "file_extension": ".py",
   "mimetype": "text/x-python",
   "name": "python",
   "nbconvert_exporter": "python",
   "pygments_lexer": "ipython3",
   "version": "3.7.3"
  }
 },
 "nbformat": 4,
 "nbformat_minor": 4
}
