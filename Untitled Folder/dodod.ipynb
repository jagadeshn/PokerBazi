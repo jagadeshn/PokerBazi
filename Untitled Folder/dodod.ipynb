{
 "cells": [
  {
   "cell_type": "code",
   "execution_count": 2,
   "metadata": {},
   "outputs": [],
   "source": [
    "\n",
    "from tensorflow import keras\n",
    "from tensorflow.keras import layers\n",
    "from tensorflow.keras.models import Sequential\n",
    "from tensorflow.keras.layers import Dense , Dropout , Activation , Flatten, Conv2D, MaxPooling2D\n",
    "import os\n",
    "import matplotlib.pyplot as plt\n",
    "import numpy as np\n",
    "import random\n",
    "from sklearn.model_selection import train_test_split\n",
    "import cv2\n",
    "from keras.optimizers import SGD\n",
    "import pickle\n",
    "import pandas as pd\n",
    "import tensorflow as tf"
   ]
  },
  {
   "cell_type": "code",
   "execution_count": 3,
   "metadata": {},
   "outputs": [],
   "source": [
    "from matplotlib import image\n",
    "from matplotlib import pyplot\n",
    "from PIL import Image\n",
    "from numpy import asarray"
   ]
  },
  {
   "cell_type": "code",
   "execution_count": 4,
   "metadata": {},
   "outputs": [],
   "source": [
    "DATADIR = r\"C:\\Users\\jagadesh\\Jupyter Projects\\PokerBazi\\cards\"\n",
    "DATADIR1 = r\"C:\\Users\\jagadesh\\Pictures\\cards\"\n",
    "lab_c = pd.read_csv(r\"C:\\Users\\jagadesh\\Jupyter Projects\\PokerBazi\\y_label1.csv\")\n",
    "file_path = r\"C:\\Users\\jagadesh\\Jupyter Projects\\PokerBazi\\y_label_shapes.csv\"\n",
    "SHAPES = r\"C:\\Users\\jagadesh\\Pictures\\new_cards\""
   ]
  },
  {
   "cell_type": "code",
   "execution_count": null,
   "metadata": {},
   "outputs": [],
   "source": [
    "# ttimg = cv2.imread(r\"C:\\Users\\jagadesh\\Pictures\\new_cards\\H\\3h.jpg\")\n",
    "# ttimg.shape"
   ]
  },
  {
   "cell_type": "code",
   "execution_count": null,
   "metadata": {},
   "outputs": [],
   "source": [
    "# cv2.imshow('OpenCV imshow()', ttimg)\n",
    "# cv2.waitKey(0)\n"
   ]
  },
  {
   "cell_type": "code",
   "execution_count": 5,
   "metadata": {},
   "outputs": [],
   "source": [
    "CATEGORIES = [\"2c\",\"2d\",\"2h\",\"2s\",\"3c\",\"3d\",\"3h\",\"3s\",\"4c\",\"4d\",\n",
    "              \"4h\",\"4s\",\"5c\",\"5d\",\"5h\",\"5s\",\"6c\",\"6d\",\"6h\",\"6s\",\n",
    "              \"7c\",\"7d\",\"7h\",\"7s\",\"8c\",\"8d\",\"8h\",\"8s\",\"9c\",\"9d\",\n",
    "              \"9h\",\"9s\",\"10c\",\"10d\",\"10h\",\"10s\",\"Jc\",\"Jd\",\"Jh\",\n",
    "              \"Js\",\"Qc\",\"Qd\",\"Qh\",\"Qs\",\"Kc\",\"Kd\",\"Kh\",\"Ks\",\"Ac\",\n",
    "             \"Ad\",\"Ah\",\"As\"]\n",
    "SUIT = ['C','D','H','S']"
   ]
  },
  {
   "cell_type": "code",
   "execution_count": 6,
   "metadata": {},
   "outputs": [],
   "source": [
    "training_data = []\n",
    "#training_data2= []\n",
    "#training_b4_flatten = []\n",
    "#Z=np.zeros((52))\n",
    "count = 0\n",
    "IMG_SIZE = 30\n",
    "y_label = []\n",
    "X_data = []\n",
    "lolo = []\n",
    "\n",
    "def create_training_data():\n",
    "    count = 0\n",
    "    for category in SUIT:\n",
    "        \n",
    "        path = os.path.join(SHAPES, category)\n",
    "        class_num = SUIT.index(category)\n",
    "        for img in os.listdir(path):\n",
    "            count = count + 1\n",
    "            img_array = cv2.imread(os.path.join(path,img),cv2.IMREAD_GRAYSCALE)\n",
    "            #new_array_2 = cv2.resize(img_array,(IMG_SIZE,IMG_SIZE))\n",
    "            new_array = cv2.resize(img_array,(IMG_SIZE,IMG_SIZE)).flatten()\n",
    "            #training_b4_flatten.append([img_array])\n",
    "            #training_data.append([new_array])\n",
    "            #X_data.append([[new_array]])\n",
    "            #y_label.append([class_num])\n",
    "            \n",
    "            \n",
    "            lolo.append([new_array,class_num])\n",
    "            \n",
    "            #Image.fromarray(img_array).show()\n",
    "    #return count\n",
    "\n",
    "create_training_data()"
   ]
  },
  {
   "cell_type": "code",
   "execution_count": 7,
   "metadata": {},
   "outputs": [],
   "source": [
    "#print(lolo)\n",
    "lolo_shuffle = random.shuffle(lolo)\n",
    "#print(lolo_shuffle)"
   ]
  },
  {
   "cell_type": "code",
   "execution_count": 9,
   "metadata": {},
   "outputs": [],
   "source": [
    "X=[]\n",
    "y=[]\n",
    "for features , label in lolo:\n",
    "    X.append(features)\n",
    "    y.append(label)\n",
    "X = np.array(X).reshape(-1,IMG_SIZE*IMG_SIZE)\n",
    "y = np.transpose(np.array(y).reshape(-1,141))\n",
    "X_check = X[34]"
   ]
  },
  {
   "cell_type": "code",
   "execution_count": 10,
   "metadata": {},
   "outputs": [],
   "source": [
    "# from sklearn.preprocessing import OneHotEncoder\n",
    "# y_enc = OneHotEncoder(handle_unknown='ignore')\n",
    "# y_enc"
   ]
  },
  {
   "cell_type": "code",
   "execution_count": 11,
   "metadata": {},
   "outputs": [],
   "source": [
    "X_train, X_test, y_train, y_test = train_test_split(X, y, test_size=0.33, random_state=42)"
   ]
  },
  {
   "cell_type": "code",
   "execution_count": null,
   "metadata": {},
   "outputs": [],
   "source": [
    "# print(X.shape)\n",
    "# print(y.shape)\n"
   ]
  },
  {
   "cell_type": "code",
   "execution_count": 12,
   "metadata": {},
   "outputs": [],
   "source": [
    "model2 = Sequential([\n",
    "    Dense(900, activation='relu',),\n",
    "    #Dropout(0.1),\n",
    "    Dense(300, activation='relu'),\n",
    "    #Dropout(0.1),\n",
    "    Dense(100, activation='relu'),\n",
    "    Dense(4,activation='softmax') \n",
    "])\n",
    "\n",
    "opt = tf.keras.optimizers.SGD(learning_rate=0.1, momentum=0.9)\n",
    "model2.compile(loss=tf.keras.losses.SparseCategoricalCrossentropy(), optimizer='adam', metrics=['accuracy'])"
   ]
  },
  {
   "cell_type": "code",
   "execution_count": 14,
   "metadata": {},
   "outputs": [
    {
     "name": "stdout",
     "output_type": "stream",
     "text": [
      "Epoch 1/100\n",
      "10/10 [==============================] - 0s 6ms/step - loss: 169.4292 - accuracy: 0.2553\n",
      "Epoch 2/100\n",
      "10/10 [==============================] - 0s 6ms/step - loss: 23.0244 - accuracy: 0.5106\n",
      "Epoch 3/100\n",
      "10/10 [==============================] - 0s 6ms/step - loss: 21.8728 - accuracy: 0.4894\n",
      "Epoch 4/100\n",
      "10/10 [==============================] - 0s 6ms/step - loss: 13.6064 - accuracy: 0.5106\n",
      "Epoch 5/100\n",
      "10/10 [==============================] - 0s 6ms/step - loss: 19.1023 - accuracy: 0.5638\n",
      "Epoch 6/100\n",
      "10/10 [==============================] - 0s 6ms/step - loss: 4.5537 - accuracy: 0.7979\n",
      "Epoch 7/100\n",
      "10/10 [==============================] - 0s 6ms/step - loss: 4.8585 - accuracy: 0.7979\n",
      "Epoch 8/100\n",
      "10/10 [==============================] - 0s 6ms/step - loss: 6.3914 - accuracy: 0.7340\n",
      "Epoch 9/100\n",
      "10/10 [==============================] - 0s 6ms/step - loss: 6.4222 - accuracy: 0.7340\n",
      "Epoch 10/100\n",
      "10/10 [==============================] - 0s 6ms/step - loss: 2.2450 - accuracy: 0.8191\n",
      "Epoch 11/100\n",
      "10/10 [==============================] - 0s 6ms/step - loss: 6.0332 - accuracy: 0.7660\n",
      "Epoch 12/100\n",
      "10/10 [==============================] - 0s 6ms/step - loss: 20.5106 - accuracy: 0.6489\n",
      "Epoch 13/100\n",
      "10/10 [==============================] - 0s 6ms/step - loss: 2.3650 - accuracy: 0.8617\n",
      "Epoch 14/100\n",
      "10/10 [==============================] - 0s 6ms/step - loss: 4.7195 - accuracy: 0.8191\n",
      "Epoch 15/100\n",
      "10/10 [==============================] - 0s 7ms/step - loss: 1.5296 - accuracy: 0.9149\n",
      "Epoch 16/100\n",
      "10/10 [==============================] - 0s 6ms/step - loss: 0.3054 - accuracy: 0.9574\n",
      "Epoch 17/100\n",
      "10/10 [==============================] - 0s 6ms/step - loss: 0.1953 - accuracy: 0.9787\n",
      "Epoch 18/100\n",
      "10/10 [==============================] - 0s 7ms/step - loss: 0.2762 - accuracy: 0.9894\n",
      "Epoch 19/100\n",
      "10/10 [==============================] - 0s 6ms/step - loss: 0.6523 - accuracy: 0.9043\n",
      "Epoch 20/100\n",
      "10/10 [==============================] - 0s 7ms/step - loss: 1.5293 - accuracy: 0.8617\n",
      "Epoch 21/100\n",
      "10/10 [==============================] - 0s 6ms/step - loss: 11.4383 - accuracy: 0.7021\n",
      "Epoch 22/100\n",
      "10/10 [==============================] - 0s 6ms/step - loss: 6.8529 - accuracy: 0.7553\n",
      "Epoch 23/100\n",
      "10/10 [==============================] - 0s 6ms/step - loss: 1.3073 - accuracy: 0.8936\n",
      "Epoch 24/100\n",
      "10/10 [==============================] - 0s 6ms/step - loss: 2.4407 - accuracy: 0.8191\n",
      "Epoch 25/100\n",
      "10/10 [==============================] - 0s 6ms/step - loss: 0.9180 - accuracy: 0.9149\n",
      "Epoch 26/100\n",
      "10/10 [==============================] - 0s 6ms/step - loss: 1.0687 - accuracy: 0.9149\n",
      "Epoch 27/100\n",
      "10/10 [==============================] - 0s 7ms/step - loss: 0.3143 - accuracy: 0.9681\n",
      "Epoch 28/100\n",
      "10/10 [==============================] - 0s 6ms/step - loss: 3.5472 - accuracy: 0.7979\n",
      "Epoch 29/100\n",
      "10/10 [==============================] - 0s 6ms/step - loss: 2.5884 - accuracy: 0.8723\n",
      "Epoch 30/100\n",
      "10/10 [==============================] - 0s 6ms/step - loss: 0.4150 - accuracy: 0.9787\n",
      "Epoch 31/100\n",
      "10/10 [==============================] - 0s 6ms/step - loss: 0.1671 - accuracy: 0.9787\n",
      "Epoch 32/100\n",
      "10/10 [==============================] - 0s 6ms/step - loss: 5.1107e-07 - accuracy: 1.0000\n",
      "Epoch 33/100\n",
      "10/10 [==============================] - 0s 6ms/step - loss: 2.6402e-06 - accuracy: 1.0000\n",
      "Epoch 34/100\n",
      "10/10 [==============================] - 0s 7ms/step - loss: 4.3196e-05 - accuracy: 1.0000\n",
      "Epoch 35/100\n",
      "10/10 [==============================] - 0s 6ms/step - loss: 4.5005e-05 - accuracy: 1.0000\n",
      "Epoch 36/100\n",
      "10/10 [==============================] - 0s 7ms/step - loss: 5.0915e-05 - accuracy: 1.0000\n",
      "Epoch 37/100\n",
      "10/10 [==============================] - 0s 6ms/step - loss: 2.9505e-05 - accuracy: 1.0000\n",
      "Epoch 38/100\n",
      "10/10 [==============================] - 0s 6ms/step - loss: 2.5958e-05 - accuracy: 1.0000\n",
      "Epoch 39/100\n",
      "10/10 [==============================] - 0s 6ms/step - loss: 2.5156e-05 - accuracy: 1.0000\n",
      "Epoch 40/100\n",
      "10/10 [==============================] - 0s 6ms/step - loss: 4.3498e-07 - accuracy: 1.0000\n",
      "Epoch 41/100\n",
      "10/10 [==============================] - 0s 6ms/step - loss: 5.1361e-07 - accuracy: 1.0000\n",
      "Epoch 42/100\n",
      "10/10 [==============================] - 0s 6ms/step - loss: 1.1895e-06 - accuracy: 1.0000\n",
      "Epoch 43/100\n",
      "10/10 [==============================] - 0s 6ms/step - loss: 1.1109e-06 - accuracy: 1.0000\n",
      "Epoch 44/100\n",
      "10/10 [==============================] - 0s 6ms/step - loss: 1.6106e-07 - accuracy: 1.0000\n",
      "Epoch 45/100\n",
      "10/10 [==============================] - 0s 6ms/step - loss: 2.7900e-08 - accuracy: 1.0000\n",
      "Epoch 46/100\n",
      "10/10 [==============================] - 0s 6ms/step - loss: 1.5218e-08 - accuracy: 1.0000\n",
      "Epoch 47/100\n",
      "10/10 [==============================] - 0s 6ms/step - loss: 1.1414e-08 - accuracy: 1.0000\n",
      "Epoch 48/100\n",
      "10/10 [==============================] - 0s 6ms/step - loss: 1.0145e-08 - accuracy: 1.0000\n",
      "Epoch 49/100\n",
      "10/10 [==============================] - 0s 6ms/step - loss: 8.8773e-09 - accuracy: 1.0000\n",
      "Epoch 50/100\n",
      "10/10 [==============================] - 0s 6ms/step - loss: 8.8773e-09 - accuracy: 1.0000\n",
      "Epoch 51/100\n",
      "10/10 [==============================] - 0s 6ms/step - loss: 8.8773e-09 - accuracy: 1.0000\n",
      "Epoch 52/100\n",
      "10/10 [==============================] - 0s 6ms/step - loss: 8.8773e-09 - accuracy: 1.0000\n",
      "Epoch 53/100\n",
      "10/10 [==============================] - 0s 6ms/step - loss: 8.8773e-09 - accuracy: 1.0000\n",
      "Epoch 54/100\n",
      "10/10 [==============================] - 0s 6ms/step - loss: 7.6091e-09 - accuracy: 1.0000\n",
      "Epoch 55/100\n",
      "10/10 [==============================] - 0s 6ms/step - loss: 7.6091e-09 - accuracy: 1.0000\n",
      "Epoch 56/100\n",
      "10/10 [==============================] - 0s 7ms/step - loss: 7.6091e-09 - accuracy: 1.0000\n",
      "Epoch 57/100\n",
      "10/10 [==============================] - 0s 6ms/step - loss: 6.3409e-09 - accuracy: 1.0000\n",
      "Epoch 58/100\n",
      "10/10 [==============================] - 0s 6ms/step - loss: 6.3409e-09 - accuracy: 1.0000\n",
      "Epoch 59/100\n",
      "10/10 [==============================] - 0s 6ms/step - loss: 6.3409e-09 - accuracy: 1.0000\n",
      "Epoch 60/100\n",
      "10/10 [==============================] - 0s 6ms/step - loss: 6.3409e-09 - accuracy: 1.0000\n",
      "Epoch 61/100\n",
      "10/10 [==============================] - 0s 6ms/step - loss: 6.3409e-09 - accuracy: 1.0000\n",
      "Epoch 62/100\n",
      "10/10 [==============================] - 0s 7ms/step - loss: 5.0727e-09 - accuracy: 1.0000\n",
      "Epoch 63/100\n",
      "10/10 [==============================] - 0s 6ms/step - loss: 5.0727e-09 - accuracy: 1.0000\n",
      "Epoch 64/100\n",
      "10/10 [==============================] - 0s 6ms/step - loss: 5.0727e-09 - accuracy: 1.0000\n",
      "Epoch 65/100\n",
      "10/10 [==============================] - 0s 6ms/step - loss: 5.0727e-09 - accuracy: 1.0000\n",
      "Epoch 66/100\n",
      "10/10 [==============================] - 0s 6ms/step - loss: 3.8046e-09 - accuracy: 1.0000\n",
      "Epoch 67/100\n",
      "10/10 [==============================] - 0s 6ms/step - loss: 3.8046e-09 - accuracy: 1.0000\n",
      "Epoch 68/100\n",
      "10/10 [==============================] - 0s 6ms/step - loss: 3.8046e-09 - accuracy: 1.0000\n",
      "Epoch 69/100\n",
      "10/10 [==============================] - 0s 6ms/step - loss: 3.8046e-09 - accuracy: 1.0000\n",
      "Epoch 70/100\n",
      "10/10 [==============================] - 0s 6ms/step - loss: 3.8046e-09 - accuracy: 1.0000\n",
      "Epoch 71/100\n",
      "10/10 [==============================] - 0s 6ms/step - loss: 3.8046e-09 - accuracy: 1.0000\n",
      "Epoch 72/100\n",
      "10/10 [==============================] - 0s 6ms/step - loss: 3.8046e-09 - accuracy: 1.0000\n",
      "Epoch 73/100\n",
      "10/10 [==============================] - 0s 6ms/step - loss: 3.8046e-09 - accuracy: 1.0000\n",
      "Epoch 74/100\n",
      "10/10 [==============================] - 0s 6ms/step - loss: 3.8046e-09 - accuracy: 1.0000\n",
      "Epoch 75/100\n",
      "10/10 [==============================] - 0s 6ms/step - loss: 3.8046e-09 - accuracy: 1.0000\n",
      "Epoch 76/100\n",
      "10/10 [==============================] - 0s 6ms/step - loss: 3.8046e-09 - accuracy: 1.0000\n",
      "Epoch 77/100\n",
      "10/10 [==============================] - 0s 6ms/step - loss: 3.8046e-09 - accuracy: 1.0000\n",
      "Epoch 78/100\n",
      "10/10 [==============================] - 0s 6ms/step - loss: 3.8046e-09 - accuracy: 1.0000\n",
      "Epoch 79/100\n",
      "10/10 [==============================] - 0s 6ms/step - loss: 2.5364e-09 - accuracy: 1.0000\n",
      "Epoch 80/100\n",
      "10/10 [==============================] - 0s 6ms/step - loss: 2.5364e-09 - accuracy: 1.0000\n"
     ]
    },
    {
     "name": "stdout",
     "output_type": "stream",
     "text": [
      "Epoch 81/100\n",
      "10/10 [==============================] - 0s 7ms/step - loss: 2.5364e-09 - accuracy: 1.0000\n",
      "Epoch 82/100\n",
      "10/10 [==============================] - 0s 7ms/step - loss: 2.5364e-09 - accuracy: 1.0000\n",
      "Epoch 83/100\n",
      "10/10 [==============================] - 0s 7ms/step - loss: 2.5364e-09 - accuracy: 1.0000\n",
      "Epoch 84/100\n",
      "10/10 [==============================] - 0s 7ms/step - loss: 2.5364e-09 - accuracy: 1.0000\n",
      "Epoch 85/100\n",
      "10/10 [==============================] - 0s 7ms/step - loss: 2.5364e-09 - accuracy: 1.0000\n",
      "Epoch 86/100\n",
      "10/10 [==============================] - 0s 6ms/step - loss: 2.5364e-09 - accuracy: 1.0000\n",
      "Epoch 87/100\n",
      "10/10 [==============================] - 0s 6ms/step - loss: 2.5364e-09 - accuracy: 1.0000\n",
      "Epoch 88/100\n",
      "10/10 [==============================] - 0s 6ms/step - loss: 2.5364e-09 - accuracy: 1.0000\n",
      "Epoch 89/100\n",
      "10/10 [==============================] - 0s 6ms/step - loss: 2.5364e-09 - accuracy: 1.0000\n",
      "Epoch 90/100\n",
      "10/10 [==============================] - 0s 7ms/step - loss: 1.2682e-09 - accuracy: 1.0000\n",
      "Epoch 91/100\n",
      "10/10 [==============================] - 0s 6ms/step - loss: 1.2682e-09 - accuracy: 1.0000\n",
      "Epoch 92/100\n",
      "10/10 [==============================] - 0s 7ms/step - loss: 1.2682e-09 - accuracy: 1.0000\n",
      "Epoch 93/100\n",
      "10/10 [==============================] - 0s 7ms/step - loss: 1.2682e-09 - accuracy: 1.0000\n",
      "Epoch 94/100\n",
      "10/10 [==============================] - 0s 7ms/step - loss: 1.2682e-09 - accuracy: 1.0000\n",
      "Epoch 95/100\n",
      "10/10 [==============================] - 0s 7ms/step - loss: 1.2682e-09 - accuracy: 1.0000\n",
      "Epoch 96/100\n",
      "10/10 [==============================] - 0s 6ms/step - loss: 1.2682e-09 - accuracy: 1.0000\n",
      "Epoch 97/100\n",
      "10/10 [==============================] - 0s 6ms/step - loss: 1.2682e-09 - accuracy: 1.0000\n",
      "Epoch 98/100\n",
      "10/10 [==============================] - 0s 7ms/step - loss: 1.2682e-09 - accuracy: 1.0000\n",
      "Epoch 99/100\n",
      "10/10 [==============================] - 0s 7ms/step - loss: 1.2682e-09 - accuracy: 1.0000\n",
      "Epoch 100/100\n",
      "10/10 [==============================] - 0s 6ms/step - loss: 1.2682e-09 - accuracy: 1.0000\n"
     ]
    }
   ],
   "source": [
    "check2 = model2.fit(X_train,y_train,batch_size=10,epochs =100)"
   ]
  },
  {
   "cell_type": "code",
   "execution_count": 19,
   "metadata": {},
   "outputs": [
    {
     "name": "stdout",
     "output_type": "stream",
     "text": [
      "WARNING:tensorflow:From <ipython-input-19-b0f34a20f1f9>:1: Sequential.predict_classes (from tensorflow.python.keras.engine.sequential) is deprecated and will be removed after 2021-01-01.\n",
      "Instructions for updating:\n",
      "Please use instead:* `np.argmax(model.predict(x), axis=-1)`,   if your model does multi-class classification   (e.g. if it uses a `softmax` last-layer activation).* `(model.predict(x) > 0.5).astype(\"int32\")`,   if your model does binary classification   (e.g. if it uses a `sigmoid` last-layer activation).\n"
     ]
    },
    {
     "data": {
      "text/plain": [
       "array([2, 2, 0, 2, 2, 3, 0, 3, 2, 3, 2, 3, 0, 0, 3, 2, 0, 3, 1, 2, 2, 1,\n",
       "       1, 2, 0, 2, 3, 3, 2, 3, 3, 3, 3, 2, 3, 0, 0, 1, 1, 2, 3, 2, 0, 1,\n",
       "       0, 2, 1], dtype=int64)"
      ]
     },
     "execution_count": 19,
     "metadata": {},
     "output_type": "execute_result"
    }
   ],
   "source": [
    "model2.predict_classes(X_test)"
   ]
  },
  {
   "cell_type": "code",
   "execution_count": 20,
   "metadata": {},
   "outputs": [
    {
     "data": {
      "text/plain": [
       "array([[2],\n",
       "       [2],\n",
       "       [2],\n",
       "       [2],\n",
       "       [2],\n",
       "       [3],\n",
       "       [0],\n",
       "       [3],\n",
       "       [1],\n",
       "       [3],\n",
       "       [2],\n",
       "       [3],\n",
       "       [1],\n",
       "       [0],\n",
       "       [3],\n",
       "       [1],\n",
       "       [0],\n",
       "       [3],\n",
       "       [0],\n",
       "       [2],\n",
       "       [2],\n",
       "       [2],\n",
       "       [0],\n",
       "       [1],\n",
       "       [0],\n",
       "       [2],\n",
       "       [3],\n",
       "       [3],\n",
       "       [2],\n",
       "       [3],\n",
       "       [3],\n",
       "       [3],\n",
       "       [3],\n",
       "       [2],\n",
       "       [3],\n",
       "       [2],\n",
       "       [2],\n",
       "       [2],\n",
       "       [2],\n",
       "       [2],\n",
       "       [3],\n",
       "       [3],\n",
       "       [0],\n",
       "       [3],\n",
       "       [0],\n",
       "       [2],\n",
       "       [1]])"
      ]
     },
     "execution_count": 20,
     "metadata": {},
     "output_type": "execute_result"
    }
   ],
   "source": [
    "y_test"
   ]
  },
  {
   "cell_type": "code",
   "execution_count": 18,
   "metadata": {},
   "outputs": [
    {
     "data": {
      "text/plain": [
       "[7.674487590789795, 0.7021276354789734]"
      ]
     },
     "execution_count": 18,
     "metadata": {},
     "output_type": "execute_result"
    }
   ],
   "source": [
    "scores = model2.evaluate(X_test, y_test, verbose=0)\n",
    "scores"
   ]
  },
  {
   "cell_type": "code",
   "execution_count": null,
   "metadata": {},
   "outputs": [],
   "source": []
  },
  {
   "cell_type": "code",
   "execution_count": null,
   "metadata": {},
   "outputs": [],
   "source": []
  },
  {
   "cell_type": "code",
   "execution_count": null,
   "metadata": {},
   "outputs": [],
   "source": []
  },
  {
   "cell_type": "code",
   "execution_count": null,
   "metadata": {},
   "outputs": [],
   "source": []
  },
  {
   "cell_type": "code",
   "execution_count": null,
   "metadata": {},
   "outputs": [],
   "source": []
  },
  {
   "cell_type": "code",
   "execution_count": null,
   "metadata": {},
   "outputs": [],
   "source": [
    "X_shuffle=[]\n",
    "y_shuffle=[]\n",
    "# for i in range(99):\n",
    "#     sss = zip(X_data[i], y_label[i])\n",
    "#     random.shuffle(sss)\n",
    "#     X_shuffle , y_shuffle = zip(*sss)\n",
    "sss = list(zip(X_data[i], y_label[i]))\n",
    "random.shuffle(sss)\n",
    "X_shuffle,y_shuffle = zip(*sss)"
   ]
  },
  {
   "cell_type": "code",
   "execution_count": null,
   "metadata": {},
   "outputs": [],
   "source": []
  },
  {
   "cell_type": "code",
   "execution_count": null,
   "metadata": {},
   "outputs": [],
   "source": [
    "#len(y_label)"
   ]
  },
  {
   "cell_type": "code",
   "execution_count": null,
   "metadata": {},
   "outputs": [],
   "source": [
    "#zipped = dict(zip(X_data, y_label))"
   ]
  },
  {
   "cell_type": "code",
   "execution_count": null,
   "metadata": {},
   "outputs": [],
   "source": [
    "countI=0\n",
    "for i in y_label:\n",
    "    #if i==2:\n",
    "    countI= countI +1\n",
    "print(countI)"
   ]
  },
  {
   "cell_type": "code",
   "execution_count": null,
   "metadata": {},
   "outputs": [],
   "source": [
    "X=[]\n",
    "y=[]\n",
    "x_b=[]\n",
    "for i in range(0,99):\n",
    "    X.append(training_data[i])\n",
    "    #x_b.append(training_b4_flatten[i])\n",
    "   # y.append(training_data2[i])\n",
    "#X = np.array(X).reshape(-1,IMG_SIZE*IMG_SIZE)\n",
    "#X_arr = np.array(X)\n",
    "#X = X/255\n",
    "#y = np.identity(52, dtype = int)\n",
    "#X = np.array(X)\n",
    "#ip_shape = X.shape"
   ]
  },
  {
   "cell_type": "code",
   "execution_count": null,
   "metadata": {},
   "outputs": [],
   "source": [
    "X[98]\n",
    "from matplotlib import pyplot as plt\n",
    "\n",
    "Image.fromarray(X[98]).show()"
   ]
  },
  {
   "cell_type": "code",
   "execution_count": null,
   "metadata": {},
   "outputs": [],
   "source": [
    "y_label_arr = np.array(y_label)\n",
    "print(X.shape)\n",
    "print(y.shape)\n",
    "print(y_label_arr.shape)\n"
   ]
  },
  {
   "cell_type": "code",
   "execution_count": null,
   "metadata": {},
   "outputs": [],
   "source": [
    "#dict(zip(X, y_label_arr))"
   ]
  },
  {
   "cell_type": "code",
   "execution_count": null,
   "metadata": {},
   "outputs": [],
   "source": [
    "# from PIL import Image\n",
    "# from numpy import *\n",
    "\n",
    "# im = array(Image.open(r\"C:\\Users\\jagadesh\\Pictures\\new_cards\\H\\3h.jpg\"))\n",
    "# Image.fromarray(im).show()"
   ]
  },
  {
   "cell_type": "code",
   "execution_count": null,
   "metadata": {},
   "outputs": [],
   "source": [
    "model1 = Sequential()\n",
    "model1.add(tf.keras.Input(shape=ip_shape))\n",
    "model1.add(Flatten())\n",
    "model1.add(Dense(17,activation = \"relu\"))\n",
    "model1.add(Dense(52,activation = \"softmax\"))\n",
    "opt = tf.keras.optimizers.SGD(learning_rate=0.1, momentum=0.9)\n",
    "model1.compile(optimizer=opt,\n",
    "              loss=tf.keras.losses.MeanSquaredError(), # Loss\n",
    "              metrics=['accuracy'])"
   ]
  },
  {
   "cell_type": "code",
   "execution_count": null,
   "metadata": {},
   "outputs": [],
   "source": [
    "model2 = Sequential([\n",
    "    Dense(900, activation='relu'),\n",
    "    #Dropout(0.1),\n",
    "    Dense(300, activation='relu'),\n",
    "    #Dropout(0.1),\n",
    "    Dense(100, activation='relu'),\n",
    "    Dense(17,activation='softmax') \n",
    "])\n",
    "\n",
    "opt = tf.keras.optimizers.SGD(learning_rate=0.1, momentum=0.9)\n",
    "model2.compile(optimizer=opt,\n",
    "              loss=tf.keras.losses.MeanSquaredError(), # Loss\n",
    "              metrics=['accuracy'])"
   ]
  },
  {
   "cell_type": "code",
   "execution_count": null,
   "metadata": {},
   "outputs": [],
   "source": [
    "check2 = model2.fit(X,y,batch_size=13,epochs =10000)"
   ]
  },
  {
   "cell_type": "code",
   "execution_count": null,
   "metadata": {},
   "outputs": [],
   "source": [
    "#X_data[0]"
   ]
  },
  {
   "cell_type": "code",
   "execution_count": null,
   "metadata": {},
   "outputs": [],
   "source": [
    "model2.predict_classes(new2_array)"
   ]
  },
  {
   "cell_type": "code",
   "execution_count": null,
   "metadata": {},
   "outputs": [],
   "source": [
    "# y[2]"
   ]
  },
  {
   "cell_type": "code",
   "execution_count": null,
   "metadata": {},
   "outputs": [],
   "source": [
    "# count_data = len(X_data)\n",
    "# for i in range(99):\n",
    "#     newOP = list(zip(X_data[i],y_label[i]))"
   ]
  },
  {
   "cell_type": "code",
   "execution_count": null,
   "metadata": {},
   "outputs": [],
   "source": [
    "# # print(newOP)\n",
    "# len(X_data)"
   ]
  },
  {
   "cell_type": "code",
   "execution_count": null,
   "metadata": {},
   "outputs": [],
   "source": [
    "#X_data = np.array(X_data)"
   ]
  },
  {
   "cell_type": "code",
   "execution_count": null,
   "metadata": {},
   "outputs": [],
   "source": []
  },
  {
   "cell_type": "code",
   "execution_count": null,
   "metadata": {},
   "outputs": [],
   "source": [
    "# Image.fromarray(training_data[1]).show()\n",
    "# X[1]"
   ]
  },
  {
   "cell_type": "code",
   "execution_count": null,
   "metadata": {},
   "outputs": [],
   "source": [
    "#y[1]"
   ]
  },
  {
   "cell_type": "code",
   "execution_count": null,
   "metadata": {},
   "outputs": [],
   "source": [
    "#check_dir = r\"‪C:\\Users\\jagadesh\\Pictures\\new_cards\\C\\4c (3).JPG\""
   ]
  },
  {
   "cell_type": "code",
   "execution_count": null,
   "metadata": {},
   "outputs": [],
   "source": [
    "# img2_array = cv2.imread(check_dir,cv2.IMREAD_GRAYSCALE)\n",
    "#             #new_array_2 = cv2.resize(img_array,(IMG_SIZE,IMG_SIZE))\n",
    "# print(img2_array)\n",
    "# new2_array = cv2.resize(img2_array,(30,30)).flatten()\n",
    "#             #training_b4_flatten.append([img_array])\n",
    "\n",
    "            \n",
    "            "
   ]
  },
  {
   "cell_type": "code",
   "execution_count": null,
   "metadata": {},
   "outputs": [],
   "source": [
    "\n",
    "new2_array = np.array(new2_array).reshape(-1,IMG_SIZE*IMG_SIZE)"
   ]
  },
  {
   "cell_type": "code",
   "execution_count": null,
   "metadata": {},
   "outputs": [],
   "source": []
  }
 ],
 "metadata": {
  "kernelspec": {
   "display_name": "Python 3",
   "language": "python",
   "name": "python3"
  },
  "language_info": {
   "codemirror_mode": {
    "name": "ipython",
    "version": 3
   },
   "file_extension": ".py",
   "mimetype": "text/x-python",
   "name": "python",
   "nbconvert_exporter": "python",
   "pygments_lexer": "ipython3",
   "version": "3.7.3"
  }
 },
 "nbformat": 4,
 "nbformat_minor": 4
}
