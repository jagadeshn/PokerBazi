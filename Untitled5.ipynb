{
 "cells": [
  {
   "cell_type": "code",
   "execution_count": 7,
   "metadata": {},
   "outputs": [
    {
     "ename": "SyntaxError",
     "evalue": "invalid syntax (<ipython-input-7-1a6898a7723b>, line 23)",
     "output_type": "error",
     "traceback": [
      "\u001b[1;36m  File \u001b[1;32m\"<ipython-input-7-1a6898a7723b>\"\u001b[1;36m, line \u001b[1;32m23\u001b[0m\n\u001b[1;33m    if if \"elephant\" in t:\u001b[0m\n\u001b[1;37m        ^\u001b[0m\n\u001b[1;31mSyntaxError\u001b[0m\u001b[1;31m:\u001b[0m invalid syntax\n"
     ]
    }
   ],
   "source": [
    "import os\n",
    "import csv\n",
    "\n",
    "path = r\"C:\\Users\\jagadesh\\Jupyter Projects\\PokerBazi\\cards\"\n",
    "\n",
    "with open('output.csv', 'w', newline='') as csvfile: #Loop through path and add all files matching *.jpg to array files\n",
    "    files = []\n",
    "    for r,d,f in os.walk(path):\n",
    "        for _file in f:\n",
    "            if '.jpg' in _file:\n",
    "                files.append(_file)\n",
    "    \n",
    "    writer = csv.writer(csvfile, delimiter=',') #Create a writer from csv module\n",
    "    for f in files: #find type of file\n",
    "        t = f[0:-5] #cut off the number and .jpg from file, leaving only the type (this may have to be changed.)\n",
    "        \n",
    "        if \"\" in t:\n",
    "            t = 1\n",
    "        if \"2\" in t:\n",
    "            t = 1\n",
    "        if \"mouse\" in t:\n",
    "            t = 2\n",
    "        if if \"elephant\" in t:\n",
    "            t = 3\n",
    "        writer.writerow([f, t])        "
   ]
  },
  {
   "cell_type": "code",
   "execution_count": 6,
   "metadata": {},
   "outputs": [],
   "source": [
    "\n",
    "def create_labels(path):\n",
    "    import os\n",
    "    labels = []\n",
    "    path = path + '/'\n",
    "    val_for = ['jpg', 'jpeg', 'png']\n",
    "    img_list = os.listdir('images')\n",
    "    img_list = [i for i in img_list if i.split('.')[-1] in val_for]\n",
    "    \n",
    "    for i in img_list:\n",
    "        im = Image.open(path + i)\n",
    "        plt.imshow(im)\n",
    "        plt.show()\n",
    "        inp = input()\n",
    "        labels.append(int(inp))\n",
    "        clear_output(wait=True)\n",
    "        \n",
    "    data = {'Image':img_list, 'Label':labels}\n",
    "    df = pd.DataFrame(data)\n",
    "    df.to_csv('labels.csv') \n",
    "    \n",
    "    print('\\nlabels.csv saved!')\n",
    "    return (df)"
   ]
  },
  {
   "cell_type": "code",
   "execution_count": 5,
   "metadata": {},
   "outputs": [
    {
     "ename": "FileNotFoundError",
     "evalue": "[WinError 3] The system cannot find the path specified: 'images'",
     "output_type": "error",
     "traceback": [
      "\u001b[1;31m---------------------------------------------------------------------------\u001b[0m",
      "\u001b[1;31mFileNotFoundError\u001b[0m                         Traceback (most recent call last)",
      "\u001b[1;32m<ipython-input-5-65f1348b231d>\u001b[0m in \u001b[0;36m<module>\u001b[1;34m\u001b[0m\n\u001b[1;32m----> 1\u001b[1;33m \u001b[0mX1\u001b[0m \u001b[1;33m=\u001b[0m \u001b[0mcreate_labels\u001b[0m\u001b[1;33m(\u001b[0m\u001b[1;34mr\"C:\\Users\\jagadesh\\Jupyter Projects\\PokerBazi\\cards\"\u001b[0m\u001b[1;33m)\u001b[0m\u001b[1;33m\u001b[0m\u001b[1;33m\u001b[0m\u001b[0m\n\u001b[0m",
      "\u001b[1;32m<ipython-input-4-1745219ce3c9>\u001b[0m in \u001b[0;36mcreate_labels\u001b[1;34m(path)\u001b[0m\n\u001b[0;32m      4\u001b[0m     \u001b[0mpath\u001b[0m \u001b[1;33m=\u001b[0m \u001b[0mpath\u001b[0m \u001b[1;33m+\u001b[0m \u001b[1;34m'/'\u001b[0m\u001b[1;33m\u001b[0m\u001b[1;33m\u001b[0m\u001b[0m\n\u001b[0;32m      5\u001b[0m     \u001b[0mval_for\u001b[0m \u001b[1;33m=\u001b[0m \u001b[1;33m[\u001b[0m\u001b[1;34m'jpg'\u001b[0m\u001b[1;33m,\u001b[0m \u001b[1;34m'jpeg'\u001b[0m\u001b[1;33m,\u001b[0m \u001b[1;34m'png'\u001b[0m\u001b[1;33m]\u001b[0m\u001b[1;33m\u001b[0m\u001b[1;33m\u001b[0m\u001b[0m\n\u001b[1;32m----> 6\u001b[1;33m     \u001b[0mimg_list\u001b[0m \u001b[1;33m=\u001b[0m \u001b[0mos\u001b[0m\u001b[1;33m.\u001b[0m\u001b[0mlistdir\u001b[0m\u001b[1;33m(\u001b[0m\u001b[1;34m'images'\u001b[0m\u001b[1;33m)\u001b[0m\u001b[1;33m\u001b[0m\u001b[1;33m\u001b[0m\u001b[0m\n\u001b[0m\u001b[0;32m      7\u001b[0m     \u001b[0mimg_list\u001b[0m \u001b[1;33m=\u001b[0m \u001b[1;33m[\u001b[0m\u001b[0mi\u001b[0m \u001b[1;32mfor\u001b[0m \u001b[0mi\u001b[0m \u001b[1;32min\u001b[0m \u001b[0mimg_list\u001b[0m \u001b[1;32mif\u001b[0m \u001b[0mi\u001b[0m\u001b[1;33m.\u001b[0m\u001b[0msplit\u001b[0m\u001b[1;33m(\u001b[0m\u001b[1;34m'.'\u001b[0m\u001b[1;33m)\u001b[0m\u001b[1;33m[\u001b[0m\u001b[1;33m-\u001b[0m\u001b[1;36m1\u001b[0m\u001b[1;33m]\u001b[0m \u001b[1;32min\u001b[0m \u001b[0mval_for\u001b[0m\u001b[1;33m]\u001b[0m\u001b[1;33m\u001b[0m\u001b[1;33m\u001b[0m\u001b[0m\n\u001b[0;32m      8\u001b[0m \u001b[1;33m\u001b[0m\u001b[0m\n",
      "\u001b[1;31mFileNotFoundError\u001b[0m: [WinError 3] The system cannot find the path specified: 'images'"
     ]
    }
   ],
   "source": [
    "X1 = create_labels(r\"C:\\Users\\jagadesh\\Jupyter Projects\\PokerBazi\\cards\")"
   ]
  },
  {
   "cell_type": "code",
   "execution_count": null,
   "metadata": {},
   "outputs": [],
   "source": []
  }
 ],
 "metadata": {
  "kernelspec": {
   "display_name": "Python 3",
   "language": "python",
   "name": "python3"
  },
  "language_info": {
   "codemirror_mode": {
    "name": "ipython",
    "version": 3
   },
   "file_extension": ".py",
   "mimetype": "text/x-python",
   "name": "python",
   "nbconvert_exporter": "python",
   "pygments_lexer": "ipython3",
   "version": "3.7.3"
  }
 },
 "nbformat": 4,
 "nbformat_minor": 4
}
